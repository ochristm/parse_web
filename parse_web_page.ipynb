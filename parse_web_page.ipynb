{
 "cells": [
  {
   "cell_type": "code",
   "execution_count": 1,
   "metadata": {},
   "outputs": [],
   "source": [
    "import pandas as pd\n",
    "from bs4 import BeautifulSoup\n",
    "import requests "
   ]
  },
  {
   "cell_type": "code",
   "execution_count": null,
   "metadata": {},
   "outputs": [],
   "source": []
  },
  {
   "cell_type": "code",
   "execution_count": 2,
   "metadata": {},
   "outputs": [],
   "source": [
    "url=\"http://www.samaratrans.info/wiki/index.php/%D0%A1%D0%B0%D0%BC%D0%B0%D1%80%D0%B0_%D0%B0%D0%B2%D1%82%D0%BE%D0%B1%D1%83%D1%81_1\"\n"
   ]
  },
  {
   "cell_type": "code",
   "execution_count": 3,
   "metadata": {},
   "outputs": [],
   "source": [
    "req = requests.get(url)\n",
    "bs = BeautifulSoup(req.text, 'html.parser')"
   ]
  },
  {
   "cell_type": "code",
   "execution_count": 5,
   "metadata": {},
   "outputs": [],
   "source": [
    "table_rows = bs.find_all(\"table\")[-4]"
   ]
  },
  {
   "cell_type": "code",
   "execution_count": 6,
   "metadata": {},
   "outputs": [],
   "source": [
    "l = []\n",
    "for tr in table_rows:\n",
    "    try:\n",
    "        td = tr.find_all('td')\n",
    "        row = [tr.text for tr in td]\n",
    "        l.append(row)\n",
    "    except:\n",
    "        pass\n",
    "# "
   ]
  },
  {
   "cell_type": "code",
   "execution_count": 7,
   "metadata": {},
   "outputs": [],
   "source": [
    "ln = []\n",
    "for sl in l:\n",
    "    nl = []\n",
    "    for i in sl:\n",
    "        new = i.replace(\"\\n\",\"\")\n",
    "        nl.append(new)\n",
    "    ln.append(nl)\n",
    "# "
   ]
  },
  {
   "cell_type": "code",
   "execution_count": 8,
   "metadata": {},
   "outputs": [
    {
     "data": {
      "text/html": [
       "<div>\n",
       "<style scoped>\n",
       "    .dataframe tbody tr th:only-of-type {\n",
       "        vertical-align: middle;\n",
       "    }\n",
       "\n",
       "    .dataframe tbody tr th {\n",
       "        vertical-align: top;\n",
       "    }\n",
       "\n",
       "    .dataframe thead th {\n",
       "        text-align: right;\n",
       "    }\n",
       "</style>\n",
       "<table border=\"1\" class=\"dataframe\">\n",
       "  <thead>\n",
       "    <tr style=\"text-align: right;\">\n",
       "      <th></th>\n",
       "      <th>0</th>\n",
       "      <th>1</th>\n",
       "    </tr>\n",
       "  </thead>\n",
       "  <tbody>\n",
       "    <tr>\n",
       "      <th>0</th>\n",
       "      <td>Режим работы</td>\n",
       "      <td>Ежедневно: с 6 до 22 часов</td>\n",
       "    </tr>\n",
       "    <tr>\n",
       "      <th>1</th>\n",
       "      <td>Интервалы движения</td>\n",
       "      <td>По рабочим дням: 8-20 мин.По выходным дням: 16...</td>\n",
       "    </tr>\n",
       "    <tr>\n",
       "      <th>2</th>\n",
       "      <td>Выпуск на линию</td>\n",
       "      <td>По рабочим дням: 20 машинПо выходным дням: 14 ...</td>\n",
       "    </tr>\n",
       "    <tr>\n",
       "      <th>3</th>\n",
       "      <td>Время в пути</td>\n",
       "      <td>1 ч. 28 мин.</td>\n",
       "    </tr>\n",
       "    <tr>\n",
       "      <th>4</th>\n",
       "      <td>Протяжённость маршрута</td>\n",
       "      <td>32,2 км</td>\n",
       "    </tr>\n",
       "    <tr>\n",
       "      <th>5</th>\n",
       "      <td>Обслуживающие предприятия</td>\n",
       "      <td>ООО \"СамараАвтоГаз\"</td>\n",
       "    </tr>\n",
       "    <tr>\n",
       "      <th>6</th>\n",
       "      <td>Подвижной состав</td>\n",
       "      <td>ЛиАЗ-5293.70</td>\n",
       "    </tr>\n",
       "    <tr>\n",
       "      <th>7</th>\n",
       "      <td>Стоимость проезда</td>\n",
       "      <td>С 1 января 2020 года:32  - при оплате наличным...</td>\n",
       "    </tr>\n",
       "    <tr>\n",
       "      <th>8</th>\n",
       "      <td>Место отстоя</td>\n",
       "      <td>Автостанция \"Красная Глинка\"</td>\n",
       "    </tr>\n",
       "  </tbody>\n",
       "</table>\n",
       "</div>"
      ],
      "text/plain": [
       "                           0  \\\n",
       "0               Режим работы   \n",
       "1         Интервалы движения   \n",
       "2            Выпуск на линию   \n",
       "3               Время в пути   \n",
       "4     Протяжённость маршрута   \n",
       "5  Обслуживающие предприятия   \n",
       "6           Подвижной состав   \n",
       "7          Стоимость проезда   \n",
       "8               Место отстоя   \n",
       "\n",
       "                                                   1  \n",
       "0                         Ежедневно: с 6 до 22 часов  \n",
       "1  По рабочим дням: 8-20 мин.По выходным дням: 16...  \n",
       "2  По рабочим дням: 20 машинПо выходным дням: 14 ...  \n",
       "3                                       1 ч. 28 мин.  \n",
       "4                                            32,2 км  \n",
       "5                                ООО \"СамараАвтоГаз\"  \n",
       "6                                       ЛиАЗ-5293.70  \n",
       "7  С 1 января 2020 года:32  - при оплате наличным...  \n",
       "8                       Автостанция \"Красная Глинка\"  "
      ]
     },
     "execution_count": 8,
     "metadata": {},
     "output_type": "execute_result"
    }
   ],
   "source": [
    "pd.DataFrame(ln)"
   ]
  },
  {
   "cell_type": "code",
   "execution_count": null,
   "metadata": {},
   "outputs": [],
   "source": []
  },
  {
   "cell_type": "code",
   "execution_count": null,
   "metadata": {},
   "outputs": [],
   "source": [
    "# проверять table title\n",
    "# \"href\""
   ]
  },
  {
   "cell_type": "code",
   "execution_count": 13,
   "metadata": {},
   "outputs": [],
   "source": [
    "url=\"http://www.samaratrans.info/wiki/index.php/%D0%97%D0%B0%D0%B3%D0%BB%D0%B0%D0%B2%D0%BD%D0%B0%D1%8F_%D1%81%D1%82%D1%80%D0%B0%D0%BD%D0%B8%D1%86%D0%B0\"\n"
   ]
  },
  {
   "cell_type": "code",
   "execution_count": 14,
   "metadata": {},
   "outputs": [],
   "source": [
    "req = requests.get(url)\n",
    "bs = BeautifulSoup(req.text, 'html.parser')"
   ]
  },
  {
   "cell_type": "code",
   "execution_count": 29,
   "metadata": {},
   "outputs": [
    {
     "data": {
      "text/plain": [
       "<li><a class=\"dropdown-tab\" href=\"http://www.samaratrans.info/wiki/index.php/Самара_автобус\">Автобус</a>\n",
       "<dl class=\"dropdown-pane\">\n",
       "<dt>Маршруты</dt>\n",
       "<dd><a href=\"http://www.samaratrans.info/wiki/index.php/Самара_автобус_маршруты\">Муниципальные</a></dd>\n",
       "<dd><a href=\"http://www.samaratrans.info/wiki/index.php/Самара_автобус_коммерческий_маршруты\">Коммерческие</a></dd>\n",
       "<dd><a href=\"http://www.samaratrans.info/wiki/index.php/Самара_автобус_пригородный_расписания\">Пригородные</a></dd>\n",
       "<dd><a href=\"http://www.samaratrans.info/wiki/index.php/Самара_автобус_сезонный_маршруты\">Сезонные (дачные)</a></dd>\n",
       "<dd><a href=\"http://www.samaratrans.info/wiki/index.php/Самара_автобус_специальный_маршруты\">Специальные</a></dd>\n",
       "<dd><a href=\"http://www.samaratrans.info/wiki/index.php/Самара_автобус_междугородный_расписания\">Междугородные</a></dd>\n",
       "<dt><hr/></dt>\n",
       "<dd><a href=\"http://www.samaratrans.info/wiki/index.php/Самара_автобус_схемы\">Схемы движения</a></dd>\n",
       "<dd><a href=\"http://www.samaratrans.info/wiki/index.php/Самара_автобус_оплата_проезда\">Оплата проезда</a></dd>\n",
       "<dd><a href=\"http://www.samaratrans.info/wiki/index.php/Самара_автобус_автовокзалы\">Автовокзалы</a></dd>\n",
       "<dd><a href=\"http://www.samaratrans.info/wiki/index.php/Самара_автобус_история\">История</a></dd>\n",
       "<dd><a href=\"http://fotobus.msk.ru/city.php?cid=46\">Фотографии</a></dd>\n",
       "</dl>\n",
       "</li>"
      ]
     },
     "execution_count": 29,
     "metadata": {},
     "output_type": "execute_result"
    }
   ],
   "source": [
    "bs.find_all(\"li\")[10]"
   ]
  },
  {
   "cell_type": "code",
   "execution_count": 35,
   "metadata": {},
   "outputs": [],
   "source": [
    "def getLinks(url):\n",
    "    req = requests.get(url)\n",
    "    soup = BeautifulSoup(req.text, 'html.parser')\n",
    "#     html_page = urllib2.urlopen(url)\n",
    "#     soup = BeautifulSoup(html_page)\n",
    "    links = []\n",
    "\n",
    "    for link in soup.findAll('a', attrs={'href': re.compile(\"^http://\")}):\n",
    "        links.append(link.get('href'))\n",
    "\n",
    "    return links"
   ]
  },
  {
   "cell_type": "code",
   "execution_count": 36,
   "metadata": {},
   "outputs": [],
   "source": [
    "links = getLinks(url)"
   ]
  },
  {
   "cell_type": "code",
   "execution_count": 34,
   "metadata": {},
   "outputs": [],
   "source": [
    "import re"
   ]
  },
  {
   "cell_type": "code",
   "execution_count": null,
   "metadata": {},
   "outputs": [],
   "source": []
  },
  {
   "cell_type": "code",
   "execution_count": 42,
   "metadata": {},
   "outputs": [],
   "source": [
    "new_links = []\n",
    "\n",
    "for elem in links:\n",
    "#     if \"http://www.samaratrans.info/wiki/index.php/Самара_\" in elem:\n",
    "    if \"маршрут\" in elem:\n",
    "        new_links.append(elem)"
   ]
  },
  {
   "cell_type": "code",
   "execution_count": null,
   "metadata": {},
   "outputs": [],
   "source": []
  },
  {
   "cell_type": "code",
   "execution_count": 45,
   "metadata": {
    "scrolled": true
   },
   "outputs": [
    {
     "data": {
      "text/plain": [
       "['http://www.samaratrans.info/wiki/index.php/Самара_автобус_маршруты',\n",
       " 'http://www.samaratrans.info/wiki/index.php/Самара_автобус_коммерческий_маршруты',\n",
       " 'http://www.samaratrans.info/wiki/index.php/Самара_автобус_сезонный_маршруты',\n",
       " 'http://www.samaratrans.info/wiki/index.php/Самара_автобус_специальный_маршруты',\n",
       " 'http://www.samaratrans.info/wiki/index.php/Самара_трамвай_маршруты',\n",
       " 'http://www.samaratrans.info/wiki/index.php/Самара_троллейбус_маршруты']"
      ]
     },
     "execution_count": 45,
     "metadata": {},
     "output_type": "execute_result"
    }
   ],
   "source": [
    "new_links"
   ]
  },
  {
   "cell_type": "code",
   "execution_count": 46,
   "metadata": {},
   "outputs": [],
   "source": [
    "url = new_links[0]"
   ]
  },
  {
   "cell_type": "code",
   "execution_count": 49,
   "metadata": {},
   "outputs": [],
   "source": [
    "req = requests.get(url)\n",
    "soup = BeautifulSoup(req.text, 'html.parser')"
   ]
  },
  {
   "cell_type": "code",
   "execution_count": 83,
   "metadata": {},
   "outputs": [],
   "source": [
    "links=[]\n",
    "stfa = soup.find_all(\"table\")[-3].find_all('a')\n",
    "for link in stfa:\n",
    "    lsh = link.get('href')\n",
    "    lsh = 'http://www.samaratrans.info' + lsh\n",
    "    links.append(lsh)\n",
    "# "
   ]
  },
  {
   "cell_type": "code",
   "execution_count": null,
   "metadata": {},
   "outputs": [],
   "source": []
  },
  {
   "cell_type": "code",
   "execution_count": null,
   "metadata": {},
   "outputs": [],
   "source": []
  }
 ],
 "metadata": {
  "kernelspec": {
   "display_name": "Python 3",
   "language": "python",
   "name": "python3"
  },
  "language_info": {
   "codemirror_mode": {
    "name": "ipython",
    "version": 3
   },
   "file_extension": ".py",
   "mimetype": "text/x-python",
   "name": "python",
   "nbconvert_exporter": "python",
   "pygments_lexer": "ipython3",
   "version": "3.7.3"
  }
 },
 "nbformat": 4,
 "nbformat_minor": 4
}
